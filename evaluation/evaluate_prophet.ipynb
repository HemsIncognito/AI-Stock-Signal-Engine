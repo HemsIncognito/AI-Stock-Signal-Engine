{
 "cells": [
  {
   "cell_type": "code",
   "execution_count": 1,
   "id": "cbd3aa89",
   "metadata": {},
   "outputs": [
    {
     "name": "stderr",
     "output_type": "stream",
     "text": [
      "c:\\Users\\hemva\\Documents\\Programs\\FinSight\\.venv\\Lib\\site-packages\\tqdm\\auto.py:21: TqdmWarning: IProgress not found. Please update jupyter and ipywidgets. See https://ipywidgets.readthedocs.io/en/stable/user_install.html\n",
      "  from .autonotebook import tqdm as notebook_tqdm\n"
     ]
    }
   ],
   "source": [
    "import pandas as pd\n",
    "import yfinance as yf\n",
    "from prophet import Prophet\n",
    "from sklearn.metrics import mean_absolute_error, mean_squared_error\n",
    "import numpy as np\n",
    "import matplotlib.pyplot as plt\n",
    "import logging\n",
    "import itertools\n",
    "from config import STOCKS_TO_TEST, TEST_YEARS, PERIOD\n",
    "\n",
    "# Suppress verbose logging from Prophet\n",
    "logging.getLogger('prophet').setLevel(logging.WARNING)\n",
    "logging.getLogger('cmdstanpy').setLevel(logging.WARNING)"
   ]
  },
  {
   "cell_type": "code",
   "execution_count": 2,
   "id": "67586b9e",
   "metadata": {},
   "outputs": [
    {
     "name": "stdout",
     "output_type": "stream",
     "text": [
      "--- Starting Tuned Prophet Backtesting on Portfolio ---\n",
      "\n",
      "Processing and tuning for AAPL...\n"
     ]
    },
    {
     "name": "stderr",
     "output_type": "stream",
     "text": [
      "17:25:29 - cmdstanpy - INFO - Chain [1] start processing\n",
      "17:25:29 - cmdstanpy - INFO - Chain [1] done processing\n",
      "17:25:29 - cmdstanpy - INFO - Chain [1] start processing\n",
      "17:25:29 - cmdstanpy - INFO - Chain [1] done processing\n",
      "17:25:29 - cmdstanpy - INFO - Chain [1] start processing\n",
      "17:25:30 - cmdstanpy - INFO - Chain [1] done processing\n",
      "17:25:30 - cmdstanpy - INFO - Chain [1] start processing\n",
      "17:25:30 - cmdstanpy - INFO - Chain [1] done processing\n",
      "17:25:31 - cmdstanpy - INFO - Chain [1] start processing\n",
      "17:25:31 - cmdstanpy - INFO - Chain [1] done processing\n",
      "17:25:32 - cmdstanpy - INFO - Chain [1] start processing\n",
      "17:25:32 - cmdstanpy - INFO - Chain [1] done processing\n",
      "17:25:33 - cmdstanpy - INFO - Chain [1] start processing\n",
      "17:25:33 - cmdstanpy - INFO - Chain [1] done processing\n",
      "17:25:34 - cmdstanpy - INFO - Chain [1] start processing\n",
      "17:25:34 - cmdstanpy - INFO - Chain [1] done processing\n",
      "17:25:35 - cmdstanpy - INFO - Chain [1] start processing\n",
      "17:25:36 - cmdstanpy - INFO - Chain [1] done processing\n",
      "17:25:36 - cmdstanpy - INFO - Chain [1] start processing\n"
     ]
    },
    {
     "name": "stdout",
     "output_type": "stream",
     "text": [
      "Best params for AAPL: {'changepoint_prior_scale': 0.1, 'seasonality_prior_scale': 1.0}\n"
     ]
    },
    {
     "name": "stderr",
     "output_type": "stream",
     "text": [
      "17:25:36 - cmdstanpy - INFO - Chain [1] done processing\n"
     ]
    },
    {
     "name": "stdout",
     "output_type": "stream",
     "text": [
      "Processed AAPL - Best RMSE: $15.53, Final MAE: $12.91\n",
      "\n",
      "Processing and tuning for MSFT...\n"
     ]
    },
    {
     "name": "stderr",
     "output_type": "stream",
     "text": [
      "17:25:37 - cmdstanpy - INFO - Chain [1] start processing\n",
      "17:25:37 - cmdstanpy - INFO - Chain [1] done processing\n",
      "17:25:38 - cmdstanpy - INFO - Chain [1] start processing\n",
      "17:25:38 - cmdstanpy - INFO - Chain [1] done processing\n",
      "17:25:38 - cmdstanpy - INFO - Chain [1] start processing\n",
      "17:25:38 - cmdstanpy - INFO - Chain [1] done processing\n",
      "17:25:39 - cmdstanpy - INFO - Chain [1] start processing\n",
      "17:25:39 - cmdstanpy - INFO - Chain [1] done processing\n",
      "17:25:39 - cmdstanpy - INFO - Chain [1] start processing\n",
      "17:25:40 - cmdstanpy - INFO - Chain [1] done processing\n",
      "17:25:40 - cmdstanpy - INFO - Chain [1] start processing\n",
      "17:25:41 - cmdstanpy - INFO - Chain [1] done processing\n",
      "17:25:41 - cmdstanpy - INFO - Chain [1] start processing\n",
      "17:25:42 - cmdstanpy - INFO - Chain [1] done processing\n",
      "17:25:42 - cmdstanpy - INFO - Chain [1] start processing\n",
      "17:25:43 - cmdstanpy - INFO - Chain [1] done processing\n",
      "17:25:43 - cmdstanpy - INFO - Chain [1] start processing\n",
      "17:25:44 - cmdstanpy - INFO - Chain [1] done processing\n",
      "17:25:45 - cmdstanpy - INFO - Chain [1] start processing\n"
     ]
    },
    {
     "name": "stdout",
     "output_type": "stream",
     "text": [
      "Best params for MSFT: {'changepoint_prior_scale': 0.1, 'seasonality_prior_scale': 1.0}\n"
     ]
    },
    {
     "name": "stderr",
     "output_type": "stream",
     "text": [
      "17:25:45 - cmdstanpy - INFO - Chain [1] done processing\n"
     ]
    },
    {
     "name": "stdout",
     "output_type": "stream",
     "text": [
      "Processed MSFT - Best RMSE: $37.47, Final MAE: $30.92\n",
      "\n",
      "Processing and tuning for JPM...\n"
     ]
    },
    {
     "name": "stderr",
     "output_type": "stream",
     "text": [
      "17:25:46 - cmdstanpy - INFO - Chain [1] start processing\n",
      "17:25:46 - cmdstanpy - INFO - Chain [1] done processing\n",
      "17:25:46 - cmdstanpy - INFO - Chain [1] start processing\n",
      "17:25:46 - cmdstanpy - INFO - Chain [1] done processing\n",
      "17:25:47 - cmdstanpy - INFO - Chain [1] start processing\n",
      "17:25:47 - cmdstanpy - INFO - Chain [1] done processing\n",
      "17:25:47 - cmdstanpy - INFO - Chain [1] start processing\n",
      "17:25:48 - cmdstanpy - INFO - Chain [1] done processing\n",
      "17:25:48 - cmdstanpy - INFO - Chain [1] start processing\n",
      "17:25:49 - cmdstanpy - INFO - Chain [1] done processing\n",
      "17:25:49 - cmdstanpy - INFO - Chain [1] start processing\n",
      "17:25:49 - cmdstanpy - INFO - Chain [1] done processing\n",
      "17:25:50 - cmdstanpy - INFO - Chain [1] start processing\n",
      "17:25:51 - cmdstanpy - INFO - Chain [1] done processing\n",
      "17:25:51 - cmdstanpy - INFO - Chain [1] start processing\n",
      "17:25:52 - cmdstanpy - INFO - Chain [1] done processing\n",
      "17:25:52 - cmdstanpy - INFO - Chain [1] start processing\n",
      "17:25:53 - cmdstanpy - INFO - Chain [1] done processing\n",
      "17:25:53 - cmdstanpy - INFO - Chain [1] start processing\n"
     ]
    },
    {
     "name": "stdout",
     "output_type": "stream",
     "text": [
      "Best params for JPM: {'changepoint_prior_scale': 0.1, 'seasonality_prior_scale': 1.0}\n"
     ]
    },
    {
     "name": "stderr",
     "output_type": "stream",
     "text": [
      "17:25:54 - cmdstanpy - INFO - Chain [1] done processing\n"
     ]
    },
    {
     "name": "stdout",
     "output_type": "stream",
     "text": [
      "Processed JPM - Best RMSE: $16.03, Final MAE: $13.16\n",
      "\n",
      "Processing and tuning for JNJ...\n"
     ]
    },
    {
     "name": "stderr",
     "output_type": "stream",
     "text": [
      "17:25:54 - cmdstanpy - INFO - Chain [1] start processing\n",
      "17:25:54 - cmdstanpy - INFO - Chain [1] done processing\n",
      "17:25:55 - cmdstanpy - INFO - Chain [1] start processing\n",
      "17:25:55 - cmdstanpy - INFO - Chain [1] done processing\n",
      "17:25:55 - cmdstanpy - INFO - Chain [1] start processing\n",
      "17:25:55 - cmdstanpy - INFO - Chain [1] done processing\n",
      "17:25:55 - cmdstanpy - INFO - Chain [1] start processing\n",
      "17:25:56 - cmdstanpy - INFO - Chain [1] done processing\n",
      "17:25:56 - cmdstanpy - INFO - Chain [1] start processing\n",
      "17:25:57 - cmdstanpy - INFO - Chain [1] done processing\n",
      "17:25:57 - cmdstanpy - INFO - Chain [1] start processing\n",
      "17:25:58 - cmdstanpy - INFO - Chain [1] done processing\n",
      "17:25:58 - cmdstanpy - INFO - Chain [1] start processing\n",
      "17:25:59 - cmdstanpy - INFO - Chain [1] done processing\n",
      "17:25:59 - cmdstanpy - INFO - Chain [1] start processing\n",
      "17:25:59 - cmdstanpy - INFO - Chain [1] done processing\n",
      "17:26:00 - cmdstanpy - INFO - Chain [1] start processing\n",
      "17:26:00 - cmdstanpy - INFO - Chain [1] done processing\n",
      "17:26:01 - cmdstanpy - INFO - Chain [1] start processing\n"
     ]
    },
    {
     "name": "stdout",
     "output_type": "stream",
     "text": [
      "Best params for JNJ: {'changepoint_prior_scale': 0.1, 'seasonality_prior_scale': 1.0}\n"
     ]
    },
    {
     "name": "stderr",
     "output_type": "stream",
     "text": [
      "17:26:01 - cmdstanpy - INFO - Chain [1] done processing\n"
     ]
    },
    {
     "name": "stdout",
     "output_type": "stream",
     "text": [
      "Processed JNJ - Best RMSE: $9.55, Final MAE: $7.34\n",
      "\n",
      "Processing and tuning for F...\n"
     ]
    },
    {
     "name": "stderr",
     "output_type": "stream",
     "text": [
      "17:26:02 - cmdstanpy - INFO - Chain [1] start processing\n",
      "17:26:02 - cmdstanpy - INFO - Chain [1] done processing\n",
      "17:26:02 - cmdstanpy - INFO - Chain [1] start processing\n",
      "17:26:02 - cmdstanpy - INFO - Chain [1] done processing\n",
      "17:26:03 - cmdstanpy - INFO - Chain [1] start processing\n",
      "17:26:03 - cmdstanpy - INFO - Chain [1] done processing\n",
      "17:26:03 - cmdstanpy - INFO - Chain [1] start processing\n",
      "17:26:04 - cmdstanpy - INFO - Chain [1] done processing\n",
      "17:26:04 - cmdstanpy - INFO - Chain [1] start processing\n",
      "17:26:05 - cmdstanpy - INFO - Chain [1] done processing\n",
      "17:26:05 - cmdstanpy - INFO - Chain [1] start processing\n",
      "17:26:05 - cmdstanpy - INFO - Chain [1] done processing\n",
      "17:26:06 - cmdstanpy - INFO - Chain [1] start processing\n",
      "17:26:06 - cmdstanpy - INFO - Chain [1] done processing\n",
      "17:26:07 - cmdstanpy - INFO - Chain [1] start processing\n",
      "17:26:08 - cmdstanpy - INFO - Chain [1] done processing\n",
      "17:26:08 - cmdstanpy - INFO - Chain [1] start processing\n",
      "17:26:09 - cmdstanpy - INFO - Chain [1] done processing\n",
      "17:26:09 - cmdstanpy - INFO - Chain [1] start processing\n"
     ]
    },
    {
     "name": "stdout",
     "output_type": "stream",
     "text": [
      "Best params for F: {'changepoint_prior_scale': 0.1, 'seasonality_prior_scale': 1.0}\n"
     ]
    },
    {
     "name": "stderr",
     "output_type": "stream",
     "text": [
      "17:26:10 - cmdstanpy - INFO - Chain [1] done processing\n"
     ]
    },
    {
     "name": "stdout",
     "output_type": "stream",
     "text": [
      "Processed F - Best RMSE: $0.81, Final MAE: $0.66\n",
      "\n",
      "Processing and tuning for NVDA...\n"
     ]
    },
    {
     "name": "stderr",
     "output_type": "stream",
     "text": [
      "17:26:10 - cmdstanpy - INFO - Chain [1] start processing\n",
      "17:26:10 - cmdstanpy - INFO - Chain [1] done processing\n",
      "17:26:11 - cmdstanpy - INFO - Chain [1] start processing\n",
      "17:26:11 - cmdstanpy - INFO - Chain [1] done processing\n",
      "17:26:11 - cmdstanpy - INFO - Chain [1] start processing\n",
      "17:26:11 - cmdstanpy - INFO - Chain [1] done processing\n",
      "17:26:12 - cmdstanpy - INFO - Chain [1] start processing\n",
      "17:26:12 - cmdstanpy - INFO - Chain [1] done processing\n",
      "17:26:13 - cmdstanpy - INFO - Chain [1] start processing\n",
      "17:26:13 - cmdstanpy - INFO - Chain [1] done processing\n",
      "17:26:13 - cmdstanpy - INFO - Chain [1] start processing\n",
      "17:26:14 - cmdstanpy - INFO - Chain [1] done processing\n",
      "17:26:14 - cmdstanpy - INFO - Chain [1] start processing\n",
      "17:26:15 - cmdstanpy - INFO - Chain [1] done processing\n",
      "17:26:15 - cmdstanpy - INFO - Chain [1] start processing\n",
      "17:26:16 - cmdstanpy - INFO - Chain [1] done processing\n",
      "17:26:16 - cmdstanpy - INFO - Chain [1] start processing\n",
      "17:26:17 - cmdstanpy - INFO - Chain [1] done processing\n",
      "17:26:18 - cmdstanpy - INFO - Chain [1] start processing\n"
     ]
    },
    {
     "name": "stdout",
     "output_type": "stream",
     "text": [
      "Best params for NVDA: {'changepoint_prior_scale': 0.5, 'seasonality_prior_scale': 1.0}\n"
     ]
    },
    {
     "name": "stderr",
     "output_type": "stream",
     "text": [
      "17:26:18 - cmdstanpy - INFO - Chain [1] done processing\n"
     ]
    },
    {
     "name": "stdout",
     "output_type": "stream",
     "text": [
      "Processed NVDA - Best RMSE: $19.98, Final MAE: $17.57\n",
      "\n",
      "--- Tuned Prophet Backtesting Complete ---\n"
     ]
    }
   ],
   "source": [
    "# --- Define a grid of parameters to test ---\n",
    "param_grid = {  \n",
    "    'changepoint_prior_scale': [0.01, 0.1, 0.5],\n",
    "    'seasonality_prior_scale': [1.0, 10.0, 20.0],\n",
    "}\n",
    "# Create all possible combinations of parameters\n",
    "all_params = [dict(zip(param_grid.keys(), v)) for v in itertools.product(*param_grid.values())]\n",
    "\n",
    "results = []\n",
    "\n",
    "print(\"--- Starting Tuned Prophet Backtesting on Portfolio ---\")\n",
    "\n",
    "for ticker in STOCKS_TO_TEST:\n",
    "    try:\n",
    "        print(f\"\\nProcessing and tuning for {ticker}...\")\n",
    "        # --- Fetch Data ---\n",
    "        data = yf.Ticker(ticker).history(period=PERIOD)\n",
    "        data.reset_index(inplace=True)\n",
    "        df_prophet = data[['Date', 'Close']].rename(columns={'Date': 'ds', 'Close': 'y'})\n",
    "        df_prophet['ds'] = df_prophet['ds'].dt.tz_localize(None)\n",
    "\n",
    "        # --- Train-Test Split ---\n",
    "        split_date = df_prophet['ds'].max() - pd.DateOffset(years=TEST_YEARS)\n",
    "        train_df = df_prophet[df_prophet['ds'] <= split_date]\n",
    "        test_df = df_prophet[df_prophet['ds'] > split_date]\n",
    "\n",
    "        best_params = {}\n",
    "        best_rmse = float('inf')\n",
    "\n",
    "        # --- Grid Search Loop ---\n",
    "        for params in all_params:\n",
    "            # Train model with the current set of parameters\n",
    "            model = Prophet(**params, yearly_seasonality=True, weekly_seasonality=True, daily_seasonality=False)\n",
    "            model.fit(train_df)\n",
    "            \n",
    "            # Predict and evaluate\n",
    "            future = model.make_future_dataframe(periods=len(test_df))\n",
    "            predictions = model.predict(future)\n",
    "            predictions = predictions[predictions['ds'] > split_date]\n",
    "            \n",
    "            y_true = test_df['y'].values\n",
    "            y_pred = predictions['yhat'].values\n",
    "            rmse = np.sqrt(mean_squared_error(y_true, y_pred))\n",
    "\n",
    "            # If this set of parameters is better, save them\n",
    "            if rmse < best_rmse:\n",
    "                best_rmse = rmse\n",
    "                best_params = params\n",
    "\n",
    "        # --- Retrain with best params to get final MAE ---\n",
    "        print(f\"Best params for {ticker}: {best_params}\")\n",
    "        final_model = Prophet(**best_params, yearly_seasonality=True, weekly_seasonality=True, daily_seasonality=False)\n",
    "        final_model.fit(train_df)\n",
    "        future = final_model.make_future_dataframe(periods=len(test_df))\n",
    "        predictions = final_model.predict(future)\n",
    "        predictions = predictions[predictions['ds'] > split_date]\n",
    "        y_true = test_df['y'].values\n",
    "        y_pred = predictions['yhat'].values\n",
    "        \n",
    "        final_mae = mean_absolute_error(y_true, y_pred)\n",
    "        \n",
    "        results.append({\"Ticker\": ticker, \"MAE\": final_mae, \"RMSE\": best_rmse})\n",
    "        print(f\"Processed {ticker} - Best RMSE: ${best_rmse:.2f}, Final MAE: ${final_mae:.2f}\")\n",
    "\n",
    "    except Exception as e:\n",
    "        print(f\"Could not process {ticker}. Error: {e}\")\n",
    "\n",
    "print(\"\\n--- Tuned Prophet Backtesting Complete ---\")"
   ]
  },
  {
   "cell_type": "code",
   "execution_count": 4,
   "id": "20a24e54",
   "metadata": {},
   "outputs": [
    {
     "name": "stdout",
     "output_type": "stream",
     "text": [
      "\n",
      "--- Prophet Model Performance Summary ---\n",
      "  Ticker        MAE       RMSE\n",
      "0   AAPL  12.914921  15.531923\n",
      "1   MSFT  30.924863  37.471464\n",
      "2    JPM  13.157970  16.031771\n",
      "3    JNJ   7.339766   9.548953\n",
      "4      F   0.664972   0.806029\n",
      "5   NVDA  17.573645  19.983243\n",
      "\n",
      "--- Average Performance ---\n",
      "MAE     13.762689\n",
      "RMSE    16.562230\n",
      "dtype: float64\n"
     ]
    }
   ],
   "source": [
    "# --- Display Final Results ---\n",
    "results_df = pd.DataFrame(results)\n",
    "print(\"\\n--- Prophet Model Performance Summary ---\")\n",
    "print(results_df.to_string())\n",
    "\n",
    "# Print the average performance\n",
    "print(\"\\n--- Average Performance ---\")\n",
    "print(results_df.mean(numeric_only=True))"
   ]
  }
 ],
 "metadata": {
  "kernelspec": {
   "display_name": ".venv",
   "language": "python",
   "name": "python3"
  },
  "language_info": {
   "codemirror_mode": {
    "name": "ipython",
    "version": 3
   },
   "file_extension": ".py",
   "mimetype": "text/x-python",
   "name": "python",
   "nbconvert_exporter": "python",
   "pygments_lexer": "ipython3",
   "version": "3.11.2"
  }
 },
 "nbformat": 4,
 "nbformat_minor": 5
}
